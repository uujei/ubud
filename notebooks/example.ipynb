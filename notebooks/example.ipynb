{
 "cells": [
  {
   "cell_type": "code",
   "execution_count": 1,
   "id": "bb7eb016-12d2-470a-b37b-f91853891f36",
   "metadata": {},
   "outputs": [],
   "source": [
    "import asyncio\n",
    "import redis.asyncio as redis\n",
    "from ubud.redis.db import Database\n",
    "\n",
    "r = redis.Redis(decode_responses=True)\n",
    "db = Database(redis_client=r)"
   ]
  },
  {
   "cell_type": "code",
   "execution_count": 2,
   "id": "99670804-ee46-46df-a4b8-67e4a65725dd",
   "metadata": {},
   "outputs": [
    {
     "data": {
      "text/plain": [
       "['ubud/exchange/balance/bithumb/BTC',\n",
       " 'ubud/exchange/balance/bithumb/ETH',\n",
       " 'ubud/exchange/balance/bithumb/KRW',\n",
       " 'ubud/exchange/balance/bithumb/WAVES',\n",
       " 'ubud/exchange/balance/ftx/BTC',\n",
       " 'ubud/exchange/balance/upbit/KRW',\n",
       " 'ubud/forex/FRX.KRWUSD',\n",
       " 'ubud/keys',\n",
       " 'ubud/quotation/keys',\n",
       " 'ubud/quotation/orderbook/bithumb/BTC/KRW/ask',\n",
       " 'ubud/quotation/orderbook/bithumb/BTC/KRW/bid',\n",
       " 'ubud/quotation/orderbook/bithumb/ETH/KRW/ask',\n",
       " 'ubud/quotation/orderbook/bithumb/ETH/KRW/bid',\n",
       " 'ubud/quotation/orderbook/bithumb/WAVES/KRW/ask',\n",
       " 'ubud/quotation/orderbook/bithumb/WAVES/KRW/bid',\n",
       " 'ubud/quotation/orderbook/ftx/BTC/PERP/ask',\n",
       " 'ubud/quotation/orderbook/ftx/BTC/PERP/bid',\n",
       " 'ubud/quotation/orderbook/ftx/BTC/USD/ask',\n",
       " 'ubud/quotation/orderbook/ftx/BTC/USD/bid',\n",
       " 'ubud/quotation/orderbook/ftx/ETH/PERP/ask',\n",
       " 'ubud/quotation/orderbook/ftx/ETH/PERP/bid',\n",
       " 'ubud/quotation/orderbook/ftx/ETH/USD/ask',\n",
       " 'ubud/quotation/orderbook/ftx/ETH/USD/bid',\n",
       " 'ubud/quotation/orderbook/ftx/WAVES/PERP/ask',\n",
       " 'ubud/quotation/orderbook/ftx/WAVES/PERP/bid',\n",
       " 'ubud/quotation/orderbook/ftx/WAVES/USD/ask',\n",
       " 'ubud/quotation/orderbook/ftx/WAVES/USD/bid',\n",
       " 'ubud/quotation/orderbook/upbit/BTC/KRW/ask',\n",
       " 'ubud/quotation/orderbook/upbit/BTC/KRW/bid',\n",
       " 'ubud/quotation/orderbook/upbit/ETH/KRW/ask',\n",
       " 'ubud/quotation/orderbook/upbit/ETH/KRW/bid',\n",
       " 'ubud/quotation/orderbook/upbit/WAVES/KRW/ask',\n",
       " 'ubud/quotation/orderbook/upbit/WAVES/KRW/bid',\n",
       " 'ubud/quotation/orderbook_total_qty/upbit/BTC/KRW/ask',\n",
       " 'ubud/quotation/orderbook_total_qty/upbit/BTC/KRW/bid',\n",
       " 'ubud/quotation/orderbook_total_qty/upbit/ETH/KRW/ask',\n",
       " 'ubud/quotation/orderbook_total_qty/upbit/ETH/KRW/bid',\n",
       " 'ubud/quotation/orderbook_total_qty/upbit/WAVES/KRW/ask',\n",
       " 'ubud/quotation/trade/bithumb/BTC/KRW/ask',\n",
       " 'ubud/quotation/trade/bithumb/BTC/KRW/bid',\n",
       " 'ubud/quotation/trade/bithumb/ETH/KRW/ask',\n",
       " 'ubud/quotation/trade/bithumb/ETH/KRW/bid',\n",
       " 'ubud/quotation/trade/bithumb/WAVES/KRW/ask',\n",
       " 'ubud/quotation/trade/bithumb/WAVES/KRW/bid',\n",
       " 'ubud/quotation/trade/ftx/BTC/PERP/ask',\n",
       " 'ubud/quotation/trade/ftx/BTC/PERP/bid',\n",
       " 'ubud/quotation/trade/ftx/BTC/USD/ask',\n",
       " 'ubud/quotation/trade/ftx/BTC/USD/bid',\n",
       " 'ubud/quotation/trade/ftx/ETH/PERP/ask',\n",
       " 'ubud/quotation/trade/ftx/ETH/PERP/bid',\n",
       " 'ubud/quotation/trade/ftx/ETH/USD/ask',\n",
       " 'ubud/quotation/trade/ftx/ETH/USD/bid',\n",
       " 'ubud/quotation/trade/ftx/WAVES/PERP/ask',\n",
       " 'ubud/quotation/trade/ftx/WAVES/PERP/bid',\n",
       " 'ubud/quotation/trade/upbit/BTC/KRW/ask',\n",
       " 'ubud/quotation/trade/upbit/BTC/KRW/bid',\n",
       " 'ubud/quotation/trade/upbit/ETH/KRW/ask',\n",
       " 'ubud/quotation/trade/upbit/ETH/KRW/bid',\n",
       " 'ubud/quotation/trade/upbit/WAVES/KRW/ask',\n",
       " 'ubud/quotation/trade/upbit/WAVES/KRW/bid']"
      ]
     },
     "execution_count": 2,
     "metadata": {},
     "output_type": "execute_result"
    }
   ],
   "source": [
    "# Redis Key 확인\n",
    "await db.keys()"
   ]
  },
  {
   "cell_type": "code",
   "execution_count": 3,
   "id": "e022270c-5bfe-4f53-bb73-16bb3f030fec",
   "metadata": {},
   "outputs": [
    {
     "data": {
      "text/plain": [
       "['ubud/quotation/orderbook/bithumb/BTC/KRW/bid',\n",
       " 'ubud/quotation/orderbook/upbit/BTC/KRW/bid',\n",
       " 'ubud/quotation/orderbook/ftx/BTC/PERP/bid',\n",
       " 'ubud/quotation/orderbook/upbit/BTC/KRW/ask',\n",
       " 'ubud/quotation/orderbook/ftx/BTC/PERP/ask',\n",
       " 'ubud/quotation/orderbook/ftx/BTC/USD/bid',\n",
       " 'ubud/quotation/orderbook/bithumb/BTC/KRW/ask',\n",
       " 'ubud/quotation/orderbook/ftx/BTC/USD/ask']"
      ]
     },
     "execution_count": 3,
     "metadata": {},
     "output_type": "execute_result"
    }
   ],
   "source": [
    "# Pattern으로 Redis Key 조회\n",
    "await db.keys(\"ubud/quotation/orderbook/*/BTC/*\")"
   ]
  },
  {
   "cell_type": "code",
   "execution_count": 4,
   "id": "06ca1398-024d-4c0f-bdac-3b79785315ab",
   "metadata": {},
   "outputs": [
    {
     "name": "stdout",
     "output_type": "stream",
     "text": [
      "UPBIT : 27446000.0 KRW/BTC\n",
      "FTX   : 27183000.0 KRW/BTC\n",
      "GIMP! : 1.010 BTC/BTC\n"
     ]
    }
   ],
   "source": [
    "# 김프 구하기\n",
    "\n",
    "async def get_gimp(_print=True):\n",
    "    # Upbit의 BTC 가격\n",
    "    x = await db.get(\"ubud/quotation/orderbook/upbit/BTC/KRW/bid\")\n",
    "    krw_btc_upbit = x[\"price\"]\n",
    "\n",
    "    # FTX의 BTC 가격 (원화 환산)\n",
    "    x = await db.get(\"ubud/forex/FRX.KRWUSD\")\n",
    "    krw_per_usd = x[\"basePrice\"]\n",
    "    x = await db.get(\"ubud/quotation/orderbook/ftx/BTC/USD/bid\")\n",
    "    usd_btc_ftx = x[\"price\"]\n",
    "    krw_btc_ftx = usd_btc_ftx * krw_per_usd\n",
    "\n",
    "    # 김프\n",
    "    gimp = krw_btc_upbit/krw_btc_ftx\n",
    "    if _print:\n",
    "        print(f\"UPBIT : {krw_btc_upbit:.1f} KRW/BTC\")\n",
    "        print(f\"FTX   : {krw_btc_ftx:.1f} KRW/BTC\")\n",
    "        print(f\"GIMP! : {gimp:.3f} BTC/BTC\")\n",
    "    \n",
    "    return gimp\n",
    "\n",
    "_ = await get_gimp()"
   ]
  },
  {
   "cell_type": "code",
   "execution_count": 5,
   "id": "b1322835-151b-48f5-977d-9498605c77c5",
   "metadata": {},
   "outputs": [
    {
     "name": "stdout",
     "output_type": "stream",
     "text": [
      "SUPER GIMP 1 TIMES! - 1.0143320693911642\n",
      "SUPER GIMP 2 TIMES! - 1.0103763209486922\n",
      "SUPER GIMP 3 TIMES! - 1.0103763209486922\n",
      "SUPER GIMP 4 TIMES! - 1.0103763209486922\n",
      "SUPER GIMP 5 TIMES! - 1.0110026834915575\n",
      "SUPER GIMP 6 TIMES! - 1.0110026834915575\n",
      "SUPER GIMP 7 TIMES! - 1.0115351468410934\n",
      "SUPER GIMP 8 TIMES! - 1.0114983168703364\n",
      "SUPER GIMP 9 TIMES! - 1.0114983168703364\n",
      "SUPER GIMP 10 TIMES! - 1.0101441066344958\n",
      "SUPER GIMP 11 TIMES! - 1.0101073259722968\n"
     ]
    }
   ],
   "source": [
    "# 설정 값 넘기는 것 10번 보고 종료\n",
    "# 설정 값 안 넘으면 1,000회 중 최대 김프 반환\n",
    "MIN_GIMP = 1.01\n",
    "\n",
    "i = 0\n",
    "j = 0\n",
    "max_gimp = 0\n",
    "while True:\n",
    "    gimp = await get_gimp(_print=False)\n",
    "    if gimp > MIN_GIMP:\n",
    "        j += 1\n",
    "        print(f\"SUPER GIMP {j} TIMES! - {gimp}\")\n",
    "        if j > 10:\n",
    "            break\n",
    "    if gimp > max_gimp:\n",
    "        max_gimp = gimp\n",
    "    i += 1\n",
    "    if j > 1000:\n",
    "        print(f\"NO SUPER GIMP TODAY! - max gimp is {max_gimp}\")\n",
    "        break\n",
    "    await asyncio.sleep(0.001)"
   ]
  },
  {
   "cell_type": "code",
   "execution_count": 6,
   "id": "37668e97-ef43-4280-843b-f926c94246ac",
   "metadata": {},
   "outputs": [
    {
     "name": "stdout",
     "output_type": "stream",
     "text": [
      "SUPER GIMP 1 TIMES! - 1.0104527051895473\n",
      "SUPER GIMP 2 TIMES! - 1.0106050005523437\n",
      "SUPER GIMP 3 TIMES! - 1.011327814276876\n",
      "SUPER GIMP 4 TIMES! - 1.0102296612321975\n",
      "SUPER GIMP 5 TIMES! - 1.0103373431924365\n",
      "SUPER GIMP 6 TIMES! - 1.0102983542501407\n",
      "SUPER GIMP 7 TIMES! - 1.0130387473950169\n",
      "SUPER GIMP 8 TIMES! - 1.0122913186339046\n",
      "SUPER GIMP 9 TIMES! - 1.0106439771877958\n",
      "SUPER GIMP 10 TIMES! - 1.0113195867171725\n",
      "SUPER GIMP 11 TIMES! - 1.014380804896348\n"
     ]
    }
   ],
   "source": [
    "# [NOTE] REDIS STREAM을 Trigger로 사용하여 데이터 업데이트 있을 때만 작동!\n",
    "# 설정 값 넘기는 것 10번 보고 종료\n",
    "# 설정 값 안 넘으면 1,000회 중 최대 김프 반환\n",
    "MIN_GIMP = 1.01\n",
    "\n",
    "i = 0\n",
    "j = 0\n",
    "max_gimp = 0\n",
    "while True:\n",
    "    stream = await r.xread({\"ubud-stream/quotation/orderbook/ftx/BTC/USD/bid\": \"$\"}, count=1, block=1)\n",
    "    if len(stream) > 0:\n",
    "        gimp = await get_gimp(_print=False)\n",
    "        if gimp > MIN_GIMP:\n",
    "            j += 1\n",
    "            print(f\"SUPER GIMP {j} TIMES! - {gimp}\")\n",
    "            if j > 10:\n",
    "                break\n",
    "        if gimp > max_gimp:\n",
    "            max_gimp = gimp\n",
    "        i += 1\n",
    "        if j > 1000:\n",
    "            print(f\"NO SUPER GIMP TODAY! - max gimp is {max_gimp}\")\n",
    "            break\n",
    "        await asyncio.sleep(0.001)"
   ]
  },
  {
   "cell_type": "code",
   "execution_count": null,
   "id": "98f6ef52-85bd-43ec-bf5a-e656c60bc3d8",
   "metadata": {},
   "outputs": [],
   "source": []
  }
 ],
 "metadata": {
  "kernelspec": {
   "display_name": "ubud",
   "language": "python",
   "name": "ubud"
  },
  "language_info": {
   "codemirror_mode": {
    "name": "ipython",
    "version": 3
   },
   "file_extension": ".py",
   "mimetype": "text/x-python",
   "name": "python",
   "nbconvert_exporter": "python",
   "pygments_lexer": "ipython3",
   "version": "3.8.13"
  }
 },
 "nbformat": 4,
 "nbformat_minor": 5
}
